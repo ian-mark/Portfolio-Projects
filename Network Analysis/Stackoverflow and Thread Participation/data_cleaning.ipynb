{
 "cells": [
  {
   "cell_type": "code",
   "execution_count": 1,
   "metadata": {},
   "outputs": [],
   "source": [
    "import numpy as np\n",
    "import pandas as pd\n",
    "\n",
    "from graph_tool.all import *"
   ]
  },
  {
   "cell_type": "code",
   "execution_count": null,
   "metadata": {},
   "outputs": [],
   "source": [
    "# Read in the dataset\n",
    "c2a = pd.read_csv('data/sx-stackoverflow-c2a.txt', delimiter=' ', header=None)\n",
    "c2q = pd.read_csv('data/sx-stackoverflow-c2q.txt', delimiter=' ', header=None)\n",
    "a2q = pd.read_csv('data/sx-stackoverflow-a2q.txt', delimiter=' ', header=None)"
   ]
  },
  {
   "cell_type": "code",
   "execution_count": 3,
   "metadata": {},
   "outputs": [],
   "source": [
    "# Give the columns a name\n",
    "c2a = c2a.rename(columns={0:'source', 1:'target', 2:'time'})\n",
    "c2q = c2q.rename(columns={0:'source', 1:'target', 2:'time'})\n",
    "a2q = a2q.rename(columns={0:'source', 1:'target', 2:'time'})\n",
    "\n",
    "# Convert time column from unix time to conventional date time\n",
    "c2a['time'] = pd.to_datetime(c2a['time'], unit='s').dt.normalize()\n",
    "c2q['time'] = pd.to_datetime(c2q['time'], unit='s').dt.normalize()\n",
    "a2q['time'] = pd.to_datetime(a2q['time'], unit='s').dt.normalize()"
   ]
  },
  {
   "cell_type": "code",
   "execution_count": 8,
   "metadata": {},
   "outputs": [
    {
     "data": {
      "text/plain": [
       "0          2008-09-06\n",
       "1          2008-09-06\n",
       "2          2008-09-07\n",
       "3          2008-09-07\n",
       "4          2008-09-07\n",
       "              ...    \n",
       "20268146   2016-03-06\n",
       "20268147   2016-03-06\n",
       "20268148   2016-03-06\n",
       "20268149   2016-03-06\n",
       "20268150   2016-03-06\n",
       "Name: time, Length: 20268151, dtype: datetime64[ns]"
      ]
     },
     "execution_count": 8,
     "metadata": {},
     "output_type": "execute_result"
    }
   ],
   "source": [
    "c2q['time']"
   ]
  },
  {
   "cell_type": "code",
   "execution_count": 7,
   "metadata": {},
   "outputs": [
    {
     "data": {
      "text/plain": [
       "Timestamp('2008-08-01 00:00:00')"
      ]
     },
     "execution_count": 7,
     "metadata": {},
     "output_type": "execute_result"
    }
   ],
   "source": [
    "np.min(c2q['time'])"
   ]
  },
  {
   "cell_type": "code",
   "execution_count": 104,
   "metadata": {},
   "outputs": [],
   "source": [
    "# Get only 6 months data from the beginning\n",
    "origin = np.min([c2a['time'][0], c2q['time'][0], a2q['time'][0]])\n",
    "end = origin + pd.DateOffset(months=6)\n",
    "\n",
    "c2a_6month = c2a.loc[c2a['time'] < end]\n",
    "c2q_6month = c2q.loc[c2q['time'] < end]\n",
    "a2q_6month = a2q.loc[a2q['time'] < end]\n",
    "\n",
    "# Combine the c2a and c2q\n",
    "user_user_6month = pd.concat([c2a_6month, c2q_6month])\n",
    "user_user_6month.reset_index(inplace=True)\n",
    "user_user_6month.drop(columns=['index'], inplace=True)\n",
    "\n",
    "# Clean the a2q\n",
    "a2q_6month.reset_index(inplace=True)\n",
    "a2q_6month.drop(columns=['index'], inplace=True)"
   ]
  },
  {
   "cell_type": "code",
   "execution_count": null,
   "metadata": {},
   "outputs": [],
   "source": [
    "# Export user-user and a2q dataframe\n",
    "user_user_6month.to_csv('data/u2u_6month.csv')\n",
    "a2q"
   ]
  }
 ],
 "metadata": {
  "kernelspec": {
   "display_name": "Python 3",
   "language": "python",
   "name": "python3"
  },
  "language_info": {
   "codemirror_mode": {
    "name": "ipython",
    "version": 3
   },
   "file_extension": ".py",
   "mimetype": "text/x-python",
   "name": "python",
   "nbconvert_exporter": "python",
   "pygments_lexer": "ipython3",
   "version": "3.7.4"
  }
 },
 "nbformat": 4,
 "nbformat_minor": 2
}

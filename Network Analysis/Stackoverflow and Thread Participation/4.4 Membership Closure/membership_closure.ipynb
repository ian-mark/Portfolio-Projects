{
 "cells": [
  {
   "cell_type": "code",
   "execution_count": 1,
   "metadata": {},
   "outputs": [],
   "source": [
    "import numpy as np\n",
    "import pandas as pd\n",
    "import matplotlib.pyplot as plt\n",
    "\n",
    "\n",
    "from graph_tool.all import *"
   ]
  },
  {
   "cell_type": "code",
   "execution_count": 2,
   "metadata": {},
   "outputs": [],
   "source": [
    "edges_user = pd.read_csv('data/user.csv', index_col = 0)\n",
    "edges_a2q = pd.read_csv('data/a2q.csv', index_col = 0)"
   ]
  },
  {
   "cell_type": "markdown",
   "metadata": {},
   "source": [
    "## Helper Functions ##"
   ]
  },
  {
   "cell_type": "code",
   "execution_count": 3,
   "metadata": {},
   "outputs": [],
   "source": [
    "def get_nodes_time(edges, t):\n",
    "    \"\"\"\n",
    "    Parameters: \n",
    "    edges: dataframe of edges\n",
    "    time: time in string\n",
    "    \n",
    "    Returns: Tuple of dataframe at time t, nodes at time t\n",
    "    \"\"\"\n",
    "    df = edges.loc[edges['time'] < t]\n",
    "    nodes = set(list(df['source']) + list(df['target']))\n",
    "    return df, nodes\n",
    "\n",
    "def get_nodes_focus(nodes_user, nodes_a2q):\n",
    "    \"\"\"\n",
    "    Parameters:\n",
    "    nodes_user: dataframe of user at time t\n",
    "    nodes_a2q: dataframe of a2q at time t\n",
    "    \n",
    "    Returns: Tuple of list of nodes in and not in focus\n",
    "    \"\"\"\n",
    "    nodes_in_focus = [n for n in nodes_user if n in nodes_a2q]\n",
    "    nodes_not_in_focus = [n for n in nodes_user if n not in nodes_a2q]\n",
    "    return nodes_in_focus, nodes_not_in_focus\n",
    "\n",
    "def get_links(edges_user, nodes_enter_focus):\n",
    "    \"\"\"\n",
    "    Parameters:\n",
    "    edges_user: dataframe of user edges at time t\n",
    "    nodes_enter_focus: list of nodes entering the focus at time t\n",
    "    \n",
    "    Returns: set of nodes that appear in the edges\n",
    "    \"\"\"\n",
    "    links_src = edges_user[edges_user['source'].isin(nodes_enter_focus)]\n",
    "    links_tgt = edges_user[edges_user['target'].isin(nodes_enter_focus)]\n",
    "    links = links_src.append(links_tgt)\n",
    "    links.drop_duplicates(inplace=True)\n",
    "    links_nodes = set(list(links['source']) + list(links['target']))\n",
    "    return links_nodes\n",
    "\n",
    "def proportion_nodes_part_of_focus(nodes_a2q, links_nodes, nodes_enter_focus):\n",
    "    \"\"\"\n",
    "    Parameters: \n",
    "    nodes_a2q: dataframe of a2q at time t\n",
    "    links_nodes: nodes with ties to nodes entering focus\n",
    "    nodes_enter_focus: list of nodes entering the focus at time t\n",
    "    \n",
    "    Returns: portion of ties which are already in the focus\n",
    "    \"\"\"\n",
    "    # Get nodes which aren't part of nodes entering focus\n",
    "    links_nodes = [n for n in links_nodes if n not in nodes_enter_focus]\n",
    "    # Check if they are member of focus\n",
    "    member_of_focus = [i in nodes_a2q for i in links_nodes]\n",
    "    # Get portion of nodes in focus\n",
    "    try:\n",
    "        portion = member_of_focus.count(True)/len(member_of_focus)\n",
    "    except:\n",
    "        portion = 0\n",
    "    return portion"
   ]
  },
  {
   "cell_type": "markdown",
   "metadata": {},
   "source": [
    "## Function to automate process ##"
   ]
  },
  {
   "cell_type": "code",
   "execution_count": 4,
   "metadata": {},
   "outputs": [],
   "source": [
    "def automate(edges_user, edges_a2q, nodes_not_in_focus_prev, time):\n",
    "    \"\"\"\n",
    "    Parameters: \n",
    "    edges_user: dataframe of user's edges\n",
    "    edges_a2q: dataframe of a2q's edges\n",
    "    nodes_not_in_focus_prev: list of nodes not in the focus from previous time\n",
    "    time: Date as a string\n",
    "    \n",
    "    Returns: 3-Tuple of nodes in focus, nodes not in focus, portion of ties which are already in the focus\n",
    "    \"\"\"\n",
    "    edges_user, nodes_user = get_nodes_time(edges_user, time)\n",
    "    edges_a2q,  nodes_a2q = get_nodes_time(edges_a2q, time)\n",
    "    \n",
    "    # Get only nodes in user space that is and is not part of the focus\n",
    "    nodes_in_focus, nodes_not_in_focus = get_nodes_focus(nodes_user, nodes_a2q)\n",
    "    \n",
    "    # Compare with previous time\n",
    "    nodes_enter_focus = [n for n in nodes_not_in_focus_prev if n not in nodes_not_in_focus]\n",
    "    \n",
    "    # Find number of links for nodes that enter focus has at current t in user space\n",
    "    links_nodes = get_links(edges_user, nodes_enter_focus)\n",
    "    \n",
    "    # Get portion of nodes which aren't part of nodes entering focus and check if they are a member of focus\n",
    "    portion = proportion_nodes_part_of_focus(nodes_a2q, links_nodes, nodes_enter_focus)\n",
    "    \n",
    "    return nodes_in_focus, nodes_not_in_focus, portion"
   ]
  },
  {
   "cell_type": "markdown",
   "metadata": {},
   "source": [
    "## Get proportion of 'friends' who are already involved in the focus ##"
   ]
  },
  {
   "cell_type": "code",
   "execution_count": 5,
   "metadata": {},
   "outputs": [],
   "source": [
    "## t0\n",
    "# End date is 2008-09-01\n",
    "edges_user_t0, nodes_user_t0 = get_nodes_time(edges_user, '2008-09-01')\n",
    "edges_a2q_t0,  nodes_a2q_t0 = get_nodes_time(edges_a2q, '2008-09-01')\n",
    "# Get only nodes in user space that is and is not part of the focus\n",
    "nodes_in_focus_t0 = [n for n in nodes_user_t0 if n in nodes_a2q_t0]\n",
    "nodes_not_in_focus_t0 = [n for n in nodes_user_t0 if n not in nodes_a2q_t0]\n",
    "\n",
    "## t1\n",
    "# End date is 2008-10-01\n",
    "nodes_in_focus_t1, nodes_not_in_focus_t1, portion_t1 = automate(edges_user, edges_a2q, nodes_not_in_focus_t0, '2008-10-01')\n",
    "\n",
    "## t2\n",
    "# End date is 2008-11-01\n",
    "nodes_in_focus_t2, nodes_not_in_focus_t2, portion_t2 = automate(edges_user, edges_a2q, nodes_not_in_focus_t1, '2008-11-01')\n",
    "\n",
    "## t3\n",
    "# End date is 2008-12-01\n",
    "nodes_in_focus_t3, nodes_not_in_focus_t3, portion_t3 = automate(edges_user, edges_a2q, nodes_not_in_focus_t2, '2008-12-01')\n",
    "\n",
    "## t4\n",
    "# End date is 2009-01-01\n",
    "nodes_in_focus_t4, nodes_not_in_focus_t4, portion_t4 = automate(edges_user, edges_a2q, nodes_not_in_focus_t3, '2009-01-01')\n",
    "\n",
    "## t5\n",
    "# End date is 2009-02-01\n",
    "nodes_in_focus_t5, nodes_not_in_focus_t5, portion_t5 = automate(edges_user, edges_a2q, nodes_not_in_focus_t4, '2009-02-01')"
   ]
  },
  {
   "cell_type": "code",
   "execution_count": 1,
   "metadata": {},
   "outputs": [
    {
     "ename": "NameError",
     "evalue": "name 'portion_t5' is not defined",
     "output_type": "error",
     "traceback": [
      "\u001b[0;31m---------------------------------------------------------------------------\u001b[0m",
      "\u001b[0;31mNameError\u001b[0m                                 Traceback (most recent call last)",
      "\u001b[0;32m<ipython-input-1-b2be360b2f73>\u001b[0m in \u001b[0;36m<module>\u001b[0;34m\u001b[0m\n\u001b[0;32m----> 1\u001b[0;31m \u001b[0mportion_t5\u001b[0m\u001b[0;34m\u001b[0m\u001b[0;34m\u001b[0m\u001b[0m\n\u001b[0m",
      "\u001b[0;31mNameError\u001b[0m: name 'portion_t5' is not defined"
     ]
    }
   ],
   "source": [
    "portion_t5"
   ]
  },
  {
   "cell_type": "code",
   "execution_count": 6,
   "metadata": {},
   "outputs": [
    {
     "data": {
      "text/plain": [
       "Text(0, 0.5, 'ratio')"
      ]
     },
     "execution_count": 6,
     "metadata": {},
     "output_type": "execute_result"
    },
    {
     "data": {
      "image/png": "[encoded data removed]",
      "text/plain": [
       "<Figure size 432x288 with 1 Axes>"
      ]
     },
     "metadata": {
      "needs_background": "light"
     },
     "output_type": "display_data"
    }
   ],
   "source": [
    "plt.plot([1,2,3,4,5], [portion_t1,portion_t2,portion_t3,portion_t4,portion_t5])\n",
    "plt.xticks([1,2,3,4,5])\n",
    "plt.xlabel('t')\n",
    "plt.ylabel('ratio')"
   ]
  }
 ],
 "metadata": {
  "kernelspec": {
   "display_name": "Python 3",
   "language": "python",
   "name": "python3"
  },
  "language_info": {
   "codemirror_mode": {
    "name": "ipython",
    "version": 3
   },
   "file_extension": ".py",
   "mimetype": "text/x-python",
   "name": "python",
   "nbconvert_exporter": "python",
   "pygments_lexer": "ipython3",
   "version": "3.7.4"
  }
 },
 "nbformat": 4,
 "nbformat_minor": 2
}

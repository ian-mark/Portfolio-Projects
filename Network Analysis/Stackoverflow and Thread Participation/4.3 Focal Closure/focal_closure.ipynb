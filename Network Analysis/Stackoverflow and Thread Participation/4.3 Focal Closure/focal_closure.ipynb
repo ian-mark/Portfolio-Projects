{
 "cells": [
  {
   "cell_type": "code",
   "execution_count": 6,
   "metadata": {
    "ExecuteTime": {
     "end_time": "2019-12-20T11:46:03.861640Z",
     "start_time": "2019-12-20T11:46:02.389275Z"
    }
   },
   "outputs": [],
   "source": [
    "import numpy as np\n",
    "import pandas as pd\n",
    "import matplotlib.pyplot as plt\n",
    "\n",
    "\n",
    "from graph_tool.all import *"
   ]
  },
  {
   "cell_type": "markdown",
   "metadata": {},
   "source": [
    "# Importing the datasets"
   ]
  },
  {
   "cell_type": "code",
   "execution_count": 7,
   "metadata": {
    "ExecuteTime": {
     "end_time": "2019-12-20T11:46:03.901020Z",
     "start_time": "2019-12-20T11:46:03.887698Z"
    }
   },
   "outputs": [],
   "source": [
    "\"\"\"\n",
    "The aim of this part of the task is to compute the relative amount of focal closure that is \n",
    "taking place in the social space with regard to one specific community in the first six months\n",
    "since the inception of Stackoverflow. \n",
    "\n",
    "For each month, the newly formed ties between nodes in the social space are compared to the topic space \n",
    "of the community. We are looking at the number of new ties formed between two nodes that were already part \n",
    "of the same community in the previous timeframe (focal closure), versus the overall number of newly formed ties. \n",
    "\n",
    "Results show that during months 2-6, the proportion of focal closure to overall amount of closure is pretty constant\n",
    "at around 80%. This confirms that the community is connecting more inwards than outwards and that it is indeed\n",
    "a community in the answers to questions topic space as well as in the comments social space. \n",
    "\n",
    "\"\"\"\n",
    "\n",
    "\n",
    "# importing both datasets: the social space (user.csv) and the topic space (a2q.csv)\n",
    "# social space: comment edges where one of the nodes is also present in the focus community\n",
    "# topic space: edges of the focus community in the topic space\n",
    "edges_user = pd.read_csv('data/user.csv', index_col = 0)\n",
    "edges_a2q = pd.read_csv('data/a2q.csv', index_col = 0)"
   ]
  },
  {
   "cell_type": "markdown",
   "metadata": {},
   "source": [
    "# Computation of focal closure ratios"
   ]
  },
  {
   "cell_type": "markdown",
   "metadata": {},
   "source": [
    "## Proportion of focal closure in t=1"
   ]
  },
  {
   "cell_type": "code",
   "execution_count": 8,
   "metadata": {
    "ExecuteTime": {
     "end_time": "2019-12-20T11:29:03.624321Z",
     "start_time": "2019-12-20T11:29:03.608381Z"
    },
    "scrolled": true
   },
   "outputs": [
    {
     "name": "stdout",
     "output_type": "stream",
     "text": [
      "0.819047619047619\n"
     ]
    }
   ],
   "source": [
    "\"\"\"\n",
    "focal: The set of unique nodes from the focus community in the topic space at t-1\n",
    "df: The dataframe containing the edges of the social space at t0\n",
    "df2: The dataframe containing the edges of the social space, \n",
    "whose nodes are also part of the community in the topic space.\n",
    "\n",
    "\"\"\"\n",
    "focal = edges_a2q.loc[edges_a2q['time'] < '2008-09-01']\n",
    "focal = set(list(edges_a2q['source']) + list(edges_a2q['target']))\n",
    "df = edges_user.loc[edges_user['time'] < '2008-10-01']\n",
    "df2 = df[df['source'].isin(focal)]\n",
    "df2 = df2[df2['target'].isin(focal)]\n",
    "ratio_t1 = len(df2.index)/len(df.index)\n",
    "print (ratio_t1)"
   ]
  },
  {
   "cell_type": "markdown",
   "metadata": {},
   "source": [
    "## Proportion of focal closure in t=2"
   ]
  },
  {
   "cell_type": "code",
   "execution_count": 9,
   "metadata": {
    "ExecuteTime": {
     "end_time": "2019-12-20T11:29:03.942740Z",
     "start_time": "2019-12-20T11:29:03.923678Z"
    }
   },
   "outputs": [
    {
     "name": "stdout",
     "output_type": "stream",
     "text": [
      "0.8133208255159474\n"
     ]
    }
   ],
   "source": [
    "focal = edges_a2q.loc[edges_a2q['time'] < '2008-10-01']\n",
    "focal = set(list(edges_a2q['source']) + list(edges_a2q['target']))\n",
    "df = edges_user.loc[edges_user['time'] < '2008-11-01']\n",
    "df2 = df[df['source'].isin(focal)]\n",
    "df2 = df2[df2['target'].isin(focal)]\n",
    "ratio_t2 = len(df2.index)/len(df.index)\n",
    "print (ratio_t2)"
   ]
  },
  {
   "cell_type": "markdown",
   "metadata": {},
   "source": [
    "## Proportion of focal closure in t=3"
   ]
  },
  {
   "cell_type": "code",
   "execution_count": 10,
   "metadata": {
    "ExecuteTime": {
     "end_time": "2019-12-20T11:29:04.753506Z",
     "start_time": "2019-12-20T11:29:04.734703Z"
    }
   },
   "outputs": [
    {
     "name": "stdout",
     "output_type": "stream",
     "text": [
      "0.7946210268948656\n"
     ]
    }
   ],
   "source": [
    "focal = edges_a2q.loc[edges_a2q['time'] < '2008-11-01']\n",
    "focal = set(list(edges_a2q['source']) + list(edges_a2q['target']))\n",
    "df = edges_user.loc[edges_user['time'] < '2008-12-01']\n",
    "df2 = df[df['source'].isin(focal)]\n",
    "df2 = df2[df2['target'].isin(focal)]\n",
    "ratio_t3 = len(df2.index)/len(df.index)\n",
    "print (ratio_t3)"
   ]
  },
  {
   "cell_type": "markdown",
   "metadata": {},
   "source": [
    "## Proportion of focal closure in t=4"
   ]
  },
  {
   "cell_type": "code",
   "execution_count": 11,
   "metadata": {
    "ExecuteTime": {
     "end_time": "2019-12-20T11:29:06.946875Z",
     "start_time": "2019-12-20T11:29:06.928537Z"
    }
   },
   "outputs": [
    {
     "name": "stdout",
     "output_type": "stream",
     "text": [
      "0.7978388113462405\n"
     ]
    }
   ],
   "source": [
    "focal = edges_a2q.loc[edges_a2q['time'] < '2008-12-01']\n",
    "focal = set(list(edges_a2q['source']) + list(edges_a2q['target']))\n",
    "df = edges_user.loc[edges_user['time'] < '2009-01-01']\n",
    "df2 = df[df['source'].isin(focal)]\n",
    "df2 = df2[df2['target'].isin(focal)]\n",
    "ratio_t4 = len(df2.index)/len(df.index)\n",
    "print (ratio_t4)"
   ]
  },
  {
   "cell_type": "markdown",
   "metadata": {},
   "source": [
    "## Proportion of focal closure in t=5"
   ]
  },
  {
   "cell_type": "code",
   "execution_count": 12,
   "metadata": {
    "ExecuteTime": {
     "end_time": "2019-12-20T11:29:07.859695Z",
     "start_time": "2019-12-20T11:29:07.844170Z"
    }
   },
   "outputs": [
    {
     "name": "stdout",
     "output_type": "stream",
     "text": [
      "0.7869804400977995\n"
     ]
    }
   ],
   "source": [
    "focal = edges_a2q.loc[edges_a2q['time'] < '2009-01-01']\n",
    "focal = set(list(edges_a2q['source']) + list(edges_a2q['target']))\n",
    "df = edges_user.loc[edges_user['time'] < '2009-02-01']\n",
    "df2 = df[df['source'].isin(focal)]\n",
    "df2 = df2[df2['target'].isin(focal)]\n",
    "ratio_t5 = len(df2.index)/len(df.index)\n",
    "print (ratio_t5)"
   ]
  },
  {
   "cell_type": "markdown",
   "metadata": {
    "ExecuteTime": {
     "end_time": "2019-12-20T11:30:11.871477Z",
     "start_time": "2019-12-20T11:30:11.867940Z"
    }
   },
   "source": [
    "# Visualisation of the results"
   ]
  },
  {
   "cell_type": "code",
   "execution_count": 16,
   "metadata": {
    "ExecuteTime": {
     "start_time": "2019-12-20T11:29:08.464Z"
    }
   },
   "outputs": [
    {
     "data": {
      "text/plain": [
       "Text(0, 0.5, 'ratio')"
      ]
     },
     "execution_count": 16,
     "metadata": {},
     "output_type": "execute_result"
    },
    {
     "data": {
      "image/png": "[encoded data removed]",
      "text/plain": [
       "<Figure size 432x288 with 1 Axes>"
      ]
     },
     "metadata": {
      "needs_background": "light"
     },
     "output_type": "display_data"
    }
   ],
   "source": [
    "plt.plot([1,2,3,4,5], [ratio_t1,ratio_t2,ratio_t3,ratio_t4,ratio_t5])\n",
    "plt.xticks([1,2,3,4,5])\n",
    "plt.xlabel('t')\n",
    "plt.ylabel('ratio')"
   ]
  },
  {
   "cell_type": "code",
   "execution_count": null,
   "metadata": {},
   "outputs": [],
   "source": []
  }
 ],
 "metadata": {
  "kernelspec": {
   "display_name": "Python 3",
   "language": "python",
   "name": "python3"
  },
  "language_info": {
   "codemirror_mode": {
    "name": "ipython",
    "version": 3
   },
   "file_extension": ".py",
   "mimetype": "text/x-python",
   "name": "python",
   "nbconvert_exporter": "python",
   "pygments_lexer": "ipython3",
   "version": "3.7.4"
  },
  "toc": {
   "base_numbering": 1,
   "nav_menu": {},
   "number_sections": true,
   "sideBar": true,
   "skip_h1_title": false,
   "title_cell": "Table of Contents",
   "title_sidebar": "Contents",
   "toc_cell": false,
   "toc_position": {},
   "toc_section_display": true,
   "toc_window_display": false
  },
  "varInspector": {
   "cols": {
    "lenName": 16,
    "lenType": 16,
    "lenVar": 40
   },
   "kernels_config": {
    "python": {
     "delete_cmd_postfix": "",
     "delete_cmd_prefix": "del ",
     "library": "var_list.py",
     "varRefreshCmd": "print(var_dic_list())"
    },
    "r": {
     "delete_cmd_postfix": ") ",
     "delete_cmd_prefix": "rm(",
     "library": "var_list.r",
     "varRefreshCmd": "cat(var_dic_list()) "
    }
   },
   "types_to_exclude": [
    "module",
    "function",
    "builtin_function_or_method",
    "instance",
    "_Feature"
   ],
   "window_display": false
  }
 },
 "nbformat": 4,
 "nbformat_minor": 2
}
